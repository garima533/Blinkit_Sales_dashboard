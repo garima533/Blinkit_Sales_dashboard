{
 "cells": [
  {
   "cell_type": "code",
   "execution_count": 1,
   "id": "db5ade11",
   "metadata": {},
   "outputs": [],
   "source": [
    "import pandas as pd\n"
   ]
  },
  {
   "cell_type": "code",
   "execution_count": null,
   "id": "924ef056",
   "metadata": {},
   "outputs": [],
   "source": [
    "import sqlite3"
   ]
  },
  {
   "cell_type": "code",
   "execution_count": 4,
   "id": "a16ae488",
   "metadata": {},
   "outputs": [],
   "source": [
    "excel_file_path = 'BlinkIT Grocery Data.xlsx'\n",
    "db_name = 'blinkit_sales.db'\n",
    "table_name = 'sales'"
   ]
  },
  {
   "cell_type": "code",
   "execution_count": 5,
   "id": "f251045e",
   "metadata": {},
   "outputs": [
    {
     "name": "stdout",
     "output_type": "stream",
     "text": [
      "Attempting to read data from 'BlinkIT Grocery Data.xlsx'...\n"
     ]
    }
   ],
   "source": [
    "print(f\"Attempting to read data from '{excel_file_path}'...\")"
   ]
  },
  {
   "cell_type": "code",
   "execution_count": 6,
   "id": "6026bc4f",
   "metadata": {},
   "outputs": [
    {
     "name": "stdout",
     "output_type": "stream",
     "text": [
      "Successfully loaded data from Excel file.\n",
      "Success! Data has been loaded into the 'blinkit_sales.db' database.\n"
     ]
    }
   ],
   "source": [
    "try:\n",
    "    df = pd.read_excel(excel_file_path)\n",
    "    print(\"Successfully loaded data from Excel file.\")\n",
    "    df.columns = df.columns.str.strip().str.replace(' ','_')\n",
    "    conn = sqlite3.connect(db_name)\n",
    "    df.to_sql(table_name,conn, if_exists='replace', index=False)\n",
    "    conn.close()\n",
    "    print(f\"Success! Data has been loaded into the '{db_name}' database.\")\n",
    "except FileNotFoundError:\n",
    "    print(f\"ERROR: the file '{excel_file_path}' was not found. Please check the file path and try again.\")\n",
    "except Exception as e:\n",
    "    print(f\"An error occurred: {e}\")"
   ]
  },
  {
   "cell_type": "code",
   "execution_count": null,
   "id": "cffb6839",
   "metadata": {},
   "outputs": [],
   "source": []
  }
 ],
 "metadata": {
  "kernelspec": {
   "display_name": "Python 3",
   "language": "python",
   "name": "python3"
  },
  "language_info": {
   "codemirror_mode": {
    "name": "ipython",
    "version": 3
   },
   "file_extension": ".py",
   "mimetype": "text/x-python",
   "name": "python",
   "nbconvert_exporter": "python",
   "pygments_lexer": "ipython3",
   "version": "3.13.7"
  }
 },
 "nbformat": 4,
 "nbformat_minor": 5
}
